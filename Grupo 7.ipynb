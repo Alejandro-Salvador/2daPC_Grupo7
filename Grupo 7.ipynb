{
 "cells": [
  {
   "cell_type": "markdown",
   "source": [
    "## WEBSCRAPING DE GENECARDS"
   ],
   "metadata": {}
  },
  {
   "cell_type": "markdown",
   "source": [
    "GRUPO 7:\n",
    " - Salvador Cama, Alejandro 20190310\n",
    " - Velasquez Gonzales, Pedro Daniel 20170382\n",
    " - Farfán Florián Erik David 20160229\n",
    " - Inoñan Sandoval, José Agustín  20190299"
   ],
   "metadata": {}
  },
  {
   "cell_type": "code",
   "execution_count": null,
   "source": [
    "# Importamos las librerías necesarias para realizar el webscraping\r\n",
    "from selenium.webdriver.common.action_chains import ActionChains\r\n",
    "from time import sleep\r\n",
    "import pandas as pd\r\n",
    "import requests\r\n",
    "from bs4 import BeautifulSoup\r\n",
    "from selenium import webdriver\r\n",
    "import re"
   ],
   "outputs": [],
   "metadata": {}
  },
  {
   "cell_type": "code",
   "execution_count": null,
   "source": [
    "# Extraemos los datos del archivo Excel\r\n",
    "datos=pd.read_excel(\"CHGenesOrdenadosConVecinos.xlsx\",engine=\"openpyxl\",skiprows=1,usecols=[0,1,2,3,4,5,6,7])\r\n",
    "# Imprimimos los datos extraídos\r\n",
    "datos\r\n"
   ],
   "outputs": [],
   "metadata": {}
  },
  {
   "cell_type": "code",
   "execution_count": null,
   "source": [
    "# Creando una lista con los nombres abreviados de los genes \r\n",
    "lista_genes = datos['Gen Abrev'].values\r\n",
    "print(lista_genes)\r\n",
    "# print(len(lista_genes))   # son 212 genes"
   ],
   "outputs": [],
   "metadata": {}
  }
 ],
 "metadata": {
  "kernelspec": {
   "display_name": "Python 3",
   "language": "python",
   "name": "python3"
  },
  "language_info": {
   "codemirror_mode": {
    "name": "ipython",
    "version": 3
   },
   "file_extension": ".py",
   "mimetype": "text/x-python",
   "name": "python",
   "nbconvert_exporter": "python",
   "pygments_lexer": "ipython3",
   "version": "3.8.5"
  }
 },
 "nbformat": 4,
 "nbformat_minor": 4
}
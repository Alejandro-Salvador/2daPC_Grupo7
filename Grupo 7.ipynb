{
 "cells": [
  {
   "cell_type": "markdown",
   "metadata": {},
   "source": [
    "## WEBSCRAPING DE GENECARDS"
   ]
  },
  {
   "cell_type": "markdown",
   "metadata": {},
   "source": [
    "GRUPO 7:\n",
    " - Salvador Cama, Alejandro 20190310\n",
    " - Velasquez Gonzales, Pedro Daniel 20170382\n",
    " - Farfán Florián Erik David 20160229\n",
    " - Inoñan Sandoval, José Agustín  20190299"
   ]
  },
  {
   "cell_type": "code",
   "execution_count": null,
   "metadata": {},
   "outputs": [],
   "source": [
    "# Importamos las librerías necesarias para realizar el webscraping\n",
    "from selenium.webdriver.common.action_chains import ActionChains\n",
    "from time import sleep\n",
    "import pandas as pd\n",
    "import requests\n",
    "from bs4 import BeautifulSoup\n",
    "from selenium import webdriver\n",
    "import re"
   ]
  },
  {
   "cell_type": "code",
   "execution_count": null,
   "metadata": {},
   "outputs": [],
   "source": [
    "# Extraemos los datos del archivo Excel\n",
    "datos=pd.read_excel(\"CHGenesOrdenadosConVecinos.xlsx\",engine=\"openpyxl\",skiprows=1,usecols=[0,1,2,3,4,5,6,7])\n",
    "# Imprimimos los datos extraídos\n",
    "datos"
   ]
  }
 ],
 "metadata": {
  "kernelspec": {
   "display_name": "Python 3",
   "language": "python",
   "name": "python3"
  },
  "language_info": {
   "codemirror_mode": {
    "name": "ipython",
    "version": 3
   },
   "file_extension": ".py",
   "mimetype": "text/x-python",
   "name": "python",
   "nbconvert_exporter": "python",
   "pygments_lexer": "ipython3",
   "version": "3.8.8"
  }
 },
 "nbformat": 4,
 "nbformat_minor": 4
}

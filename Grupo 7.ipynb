{
 "cells": [
  {
   "cell_type": "markdown",
   "source": [
    "## WEBSCRAPING DE GENECARDS"
   ],
   "metadata": {}
  },
  {
   "cell_type": "markdown",
   "source": [
    "GRUPO 7:\n",
    " - Salvador Cama, Alejandro 20190310\n",
    " - Velasquez Gonzales, Pedro Daniel 20170382\n",
    " - Farfán Florián Erik David 20160229\n",
    " - Inoñan Sandoval, José Agustín  20190299"
   ],
   "metadata": {}
  },
  {
   "cell_type": "code",
   "execution_count": null,
   "source": [
    "# Importamos las librerías necesarias para realizar el webscraping\r\n",
    "from selenium.webdriver.common.action_chains import ActionChains\r\n",
    "from time import sleep\r\n",
    "import pandas as pd\r\n",
    "import requests\r\n",
    "from bs4 import BeautifulSoup\r\n",
    "from selenium import webdriver\r\n",
    "import re"
   ],
   "outputs": [],
   "metadata": {}
  },
  {
   "cell_type": "code",
   "execution_count": null,
   "source": [
    "# Extraemos los datos del archivo Excel\r\n",
    "datos=pd.read_excel(\"CHGenesOrdenadosConVecinos.xlsx\",engine=\"openpyxl\",skiprows=1,usecols=[0,1,2,3,4,5,6,7])\r\n",
    "# Imprimimos los datos extraídos\r\n",
    "datos\r\n"
   ],
   "outputs": [],
   "metadata": {}
  },
  {
   "cell_type": "code",
   "execution_count": null,
   "source": [
    "# Creando una lista con los nombres abreviados de los genes \r\n",
    "lista_genes = datos['Gen Abrev'].values\r\n",
    "print(lista_genes)\r\n",
    "# print(len(lista_genes))   # son 212 genes"
   ],
   "outputs": [],
   "metadata": {}
  },
  {
   "cell_type": "code",
   "execution_count": null,
   "source": [
    "# Generamos los link`s correspondientes a cada gen y los almacenamos en una lista.\r\n",
    "links=[]\r\n",
    "# recorremos la lista de genes para crear los urls necesarios\r\n",
    "for i in lista_genes:\r\n",
    "    url=\"https://www.genecards.org/cgi-bin/carddisp.pl?gene=\"+i+\"#expression\"\r\n",
    "    links.append(url)  #llenamos la lista con cada url\r\n",
    "print(links)"
   ],
   "outputs": [],
   "metadata": {}
  },
  {
   "cell_type": "code",
   "execution_count": null,
   "source": [
    "#Usamos webdriver para controlar chrome\r\n",
    "driver=webdriver.Chrome(executable_path=\"C:/Users/RYZEN 5-2600/Documents/chromedriver.exe\")\r\n",
    "#CREAMOS LISTA VACIA html\r\n",
    "html=[]\r\n",
    "#Recorremos la lista de links de los genes\r\n",
    "for link in links_genes:\r\n",
    "    driver.get(link) #abre cada link\r\n",
    "    try:            #evita errores\r\n",
    "        element = driver.find_element_by_id(\"expressionImage\") #recurre al motor de busqueda\r\n",
    "        soup = BeautifulSoup(driver.page_source,features=\"html.parser\") #crea la sopa\r\n",
    "        while(soup.find(\"area\")==None): #mientras area sea None, llenamos la lista html\r\n",
    "            driver.get(link)\r\n",
    "            soup = BeautifulSoup(driver.page_source,features=\"html.parser\")\r\n",
    "        html.append(soup)\r\n",
    "    except:\r\n",
    "        html.append(None)\r\n",
    "        continue\r\n",
    "driver.quit() #cerremos el motor de busqueda"
   ],
   "outputs": [],
   "metadata": {}
  },
  {
   "cell_type": "code",
   "execution_count": null,
   "source": [
    "#Se crea una lista vacia llamada info\r\n",
    "info = [] \r\n",
    "for i in html:\r\n",
    "    L=[]  # lista vacía para almacenar los datos solicitados de los html`s\r\n",
    "    if i == None:   # si no encuentra el html lo almacena como None\r\n",
    "        L.append(None)\r\n",
    "    else:  \r\n",
    "        soup=i  # de lo contrario, si encuentra un html con informacion se comienza a agragar los datos solicitados utilizando BeautifulSoup\r\n",
    "        L.append(soup.find('span',{'class':'gc-category'}).text)\r\n",
    "        L.append(soup.find_all('span',{'class':'aliasMainName'})[1].text)\r\n",
    "        lista=soup.find_all('area',{'title':re.compile('.Breast.')})\r\n",
    "        L.append(lista[0]['title'].split(',')[0]+', '+lista[3]['title'].split(',')[0])\r\n",
    "        L.append(lista[1]['title'].split(',')[0])\r\n",
    "        L.append(lista[2]['title'].split(',')[0])\r\n",
    "    info.append(L)\r\n",
    "\r\n",
    "print(info)"
   ],
   "outputs": [],
   "metadata": {}
  }
 ],
 "metadata": {
  "kernelspec": {
   "display_name": "Python 3",
   "language": "python",
   "name": "python3"
  },
  "language_info": {
   "codemirror_mode": {
    "name": "ipython",
    "version": 3
   },
   "file_extension": ".py",
   "mimetype": "text/x-python",
   "name": "python",
   "nbconvert_exporter": "python",
   "pygments_lexer": "ipython3",
   "version": "3.8.8"
  }
 },
 "nbformat": 4,
 "nbformat_minor": 4
}
{
 "cells": [
  {
   "cell_type": "markdown",
   "metadata": {},
   "source": [
    "## WEBSCRAPING DE GENECARDS"
   ]
  },
  {
   "cell_type": "markdown",
   "metadata": {},
   "source": [
    "GRUPO 7:\n",
    " - Salvador Cama, Alejandro 20190310\n",
    " - Velasquez Gonzales, Pedro Daniel 20170382\n",
    " - Farfán Florián Erik David 20160229\n",
    " - Inoñan Sandoval, José Agustín  20190299"
   ]
  },
  {
   "cell_type": "code",
   "execution_count": null,
   "metadata": {},
   "outputs": [],
   "source": [
    "# Importamos las librerías necesarias para realizar el webscraping\n",
    "from selenium.webdriver.common.action_chains import ActionChains\n",
    "from time import sleep\n",
    "import pandas as pd\n",
    "import requests\n",
    "from bs4 import BeautifulSoup\n",
    "from selenium import webdriver\n",
    "import re"
   ]
  },
  {
   "cell_type": "code",
   "execution_count": null,
   "metadata": {},
   "outputs": [],
   "source": [
    "# Extraemos los datos del archivo Excel\n",
    "datos=pd.read_excel(\"CHGenesOrdenadosConVecinos.xlsx\",engine=\"openpyxl\",skiprows=1,usecols=[0,1,2,3,4,5,6,7])\n",
    "# Imprimimos los datos extraídos\n",
    "datos\n"
   ]
  },
  {
   "cell_type": "code",
   "execution_count": null,
   "metadata": {},
   "outputs": [],
   "source": [
    "# Creando una lista con los nombres abreviados de los genes \n",
    "lista_genes = datos['Gen Abrev'].values\n",
    "print(lista_genes)\n",
    "# print(len(lista_genes))   # son 212 genes"
   ]
  },
  {
   "cell_type": "code",
   "execution_count": null,
   "metadata": {},
   "outputs": [],
   "source": [
    "# Generamos los link`s correspondientes a cada gen y los almacenamos en una lista.\n",
    "links=[]\n",
    "# recorremos la lista de genes para crear los urls necesarios\n",
    "for i in lista_genes:\n",
    "    url=\"https://www.genecards.org/cgi-bin/carddisp.pl?gene=\"+i+\"#expression\"\n",
    "    links.append(url)  #llenamos la lista con cada url\n",
    "print(links)"
   ]
  },
  {
   "cell_type": "code",
   "execution_count": null,
   "metadata": {},
   "outputs": [],
   "source": [
    "#Usamos webdriver para controlar chrome\n",
    "driver=webdriver.Chrome(executable_path=\"C:/Users/RYZEN 5-2600/Documents/chromedriver.exe\")\n",
    "#CREAMOS LISTA VACIA html\n",
    "html=[]\n",
    "#Recorremos la lista de links de los genes\n",
    "for link in links_genes:\n",
    "    driver.get(link) #abre cada link\n",
    "    try:            #evita errores\n",
    "        element = driver.find_element_by_id(\"expressionImage\") #recurre al motor de busqueda\n",
    "        soup = BeautifulSoup(driver.page_source,features=\"html.parser\") #crea la sopa\n",
    "        while(soup.find(\"area\")==None): #mientras area sea None, llenamos la lista html\n",
    "            driver.get(link)\n",
    "            soup = BeautifulSoup(driver.page_source,features=\"html.parser\")\n",
    "        html.append(soup)\n",
    "    except:\n",
    "        html.append(None)\n",
    "        continue\n",
    "driver.quit() #cerremos el motor de busqueda"
   ]
  }
 ],
 "metadata": {
  "kernelspec": {
   "display_name": "Python 3",
   "language": "python",
   "name": "python3"
  },
  "language_info": {
   "codemirror_mode": {
    "name": "ipython",
    "version": 3
   },
   "file_extension": ".py",
   "mimetype": "text/x-python",
   "name": "python",
   "nbconvert_exporter": "python",
   "pygments_lexer": "ipython3",
   "version": "3.8.8"
  }
 },
 "nbformat": 4,
 "nbformat_minor": 4
}
